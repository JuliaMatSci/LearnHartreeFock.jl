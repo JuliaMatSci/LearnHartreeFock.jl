{
 "cells": [
  {
   "cell_type": "code",
   "execution_count": 2,
   "metadata": {
    "collapsed": false
   },
   "outputs": [],
   "source": [
    "export Particle,Atom\n",
    "abstract type Particle end\n",
    "\n",
    "\n",
    "struct Atom <: Particle\n",
    "           x::Float64\n",
    "           y::Float64\n",
    "           z::Float64\n",
    "           Z::Integer\n",
    "           function Atom(x::Real=0.00e0,\n",
    "                         y::Real=0.00e0,\n",
    "                         z::Real=0.00e0,\n",
    "                         Z::Real=1)\n",
    "                   x0,y0,z0 = map(Float64,(x,y,z));\n",
    "                   Z0 = Int(Z);\n",
    "                   if Z0 < 1\n",
    "                       error(\"Atomic number < 1 is not allowed.\")\n",
    "                   end\n",
    "                   new(x0,y0,z0,Z0);\n",
    "           end\n",
    "       end\n"
   ]
  },
  {
   "cell_type": "code",
   "execution_count": 3,
   "metadata": {
    "collapsed": false
   },
   "outputs": [
    {
     "data": {
      "text/plain": [
       "test_atom_type (generic function with 1 method)"
      ]
     },
     "execution_count": 3,
     "metadata": {},
     "output_type": "execute_result"
    }
   ],
   "source": [
    "function test_atom_type()\n",
    "    atom = Atom()\n",
    "    @assert  sum([atom.x,atom.y,atom.z]) == 0.00\n",
    "    println(\"Test 1 passed\")\n",
    "    return 0\n",
    "end"
   ]
  },
  {
   "cell_type": "code",
   "execution_count": 4,
   "metadata": {
    "collapsed": false
   },
   "outputs": [
    {
     "name": "stdout",
     "output_type": "stream",
     "text": [
      "Test 1 passed\n"
     ]
    },
    {
     "data": {
      "text/plain": [
       "0"
      ]
     },
     "execution_count": 4,
     "metadata": {},
     "output_type": "execute_result"
    }
   ],
   "source": [
    "test_atom_type()"
   ]
  },
  {
   "cell_type": "code",
   "execution_count": 5,
   "metadata": {
    "collapsed": false
   },
   "outputs": [
    {
     "data": {
      "text/plain": [
       "SystemOfAtoms"
      ]
     },
     "execution_count": 5,
     "metadata": {},
     "output_type": "execute_result"
    }
   ],
   "source": [
    "\"\"\"Test\n",
    "\"\"\" struct SystemOfAtoms\n",
    "    natoms::Integer;\n",
    "    atoms::Array{Atom,1};\n",
    "    cell::Array{Float64,2};\n",
    "    function SystemOfAtoms(natoms=1,\n",
    "                    atoms=[Atom()],\n",
    "                    cell=zeros(3,3))\n",
    "            if natoms < 0\n",
    "                error(\"Simulation cell cannot have negative atoms.\")\n",
    "            end\n",
    "            if size(cell) != (3,3)\n",
    "                error(\"Simulation cell is not a 3x3 array.\")\n",
    "            end\n",
    "            if typeof(atoms) != Array{Atom,1}\n",
    "                error(\"Atomic entries are not of the typeof() == Atom.\")\n",
    "            end\n",
    "            new(natoms,atoms,cell)\n",
    "    end\n",
    "end"
   ]
  },
  {
   "cell_type": "markdown",
   "metadata": {
    "collapsed": true
   },
   "source": [
    "# Basis Function Structure Types"
   ]
  },
  {
   "cell_type": "code",
   "execution_count": 6,
   "metadata": {
    "collapsed": false
   },
   "outputs": [
    {
     "data": {
      "text/plain": [
       "SOrbital"
      ]
     },
     "execution_count": 6,
     "metadata": {},
     "output_type": "execute_result"
    }
   ],
   "source": [
    "\"\"\"\n",
    "Data type for Gaussian based s-orbitals\n",
    "\"\"\" struct SOrbital\n",
    "     ax::Float64\n",
    "     ay::Float64\n",
    "     az::Float64\n",
    "     alpha::Float64\n",
    "     norm::Float64\n",
    "     function SOrbital(ax,ay,az,alpha)\n",
    "          norm = (2.00e0*alpha/pi)^(3/4);\n",
    "          new(ax,ay,az,alpha,norm);\n",
    "      end\n",
    "     function SOrbital(atom::Atom,alpha)\n",
    "          norm = (2.00e0*alpha/pi)^(3/4);\n",
    "          new(atom.x,atom.y,atom.x,alpha,norm);\n",
    "      end\n",
    "end"
   ]
  },
  {
   "cell_type": "code",
   "execution_count": 7,
   "metadata": {
    "collapsed": false
   },
   "outputs": [
    {
     "data": {
      "text/plain": [
       "SOrbital(0.0, 0.0, -1.0, 7.0, 3.067140158024646)"
      ]
     },
     "execution_count": 7,
     "metadata": {},
     "output_type": "execute_result"
    }
   ],
   "source": [
    "SOrbital(0.0,0.0,-1.0,7)"
   ]
  },
  {
   "cell_type": "code",
   "execution_count": 4,
   "metadata": {
    "collapsed": false
   },
   "outputs": [
    {
     "data": {
      "text/plain": [
       "BasisInfo"
      ]
     },
     "execution_count": 4,
     "metadata": {},
     "output_type": "execute_result"
    }
   ],
   "source": [
    "\n",
    "\"\"\" Basis Type\n",
    "\"\"\" struct BasisInfo\n",
    "        btype::String\n",
    "end\n"
   ]
  },
  {
   "cell_type": "code",
   "execution_count": 3,
   "metadata": {
    "collapsed": false
   },
   "outputs": [
    {
     "data": {
      "text/plain": [
       "GaussianInfo"
      ]
     },
     "execution_count": 3,
     "metadata": {},
     "output_type": "execute_result"
    }
   ],
   "source": [
    "\n",
    "\"\"\" Contains basis set info for Gaussian Functions\n",
    "\"\"\" struct GaussianInfo\n",
    "       btype::String\n",
    "       nprims::Int\n",
    "       alphas::Array{Float64,1}\n",
    "      function GaussianInfo(btype,nprims,alphas)\n",
    "           if nprims != length(alphas)\n",
    "               error(\"Number of alphas not equal to number of primitives.\")\n",
    "           end\n",
    "           new(btype,nprims,alphas)\n",
    "       end\n",
    "end\n"
   ]
  },
  {
   "cell_type": "code",
   "execution_count": 4,
   "metadata": {
    "collapsed": false
   },
   "outputs": [
    {
     "data": {
      "text/plain": [
       "GaussianInfo(\"6-31\", 4, [1.0, 2.0, 3.0, 4.0])"
      ]
     },
     "execution_count": 4,
     "metadata": {},
     "output_type": "execute_result"
    }
   ],
   "source": [
    "basis = GaussianInfo(\"6-31\",4,[1.,2.,3.,4.])"
   ]
  },
  {
   "cell_type": "code",
   "execution_count": 5,
   "metadata": {
    "collapsed": false
   },
   "outputs": [
    {
     "data": {
      "text/plain": [
       "GaussianInfo"
      ]
     },
     "execution_count": 5,
     "metadata": {},
     "output_type": "execute_result"
    }
   ],
   "source": [
    "typeof(basis)"
   ]
  },
  {
   "cell_type": "code",
   "execution_count": 21,
   "metadata": {
    "collapsed": false
   },
   "outputs": [
    {
     "data": {
      "text/plain": [
       "5-element Array{GaussianInfo,1}:\n",
       " #undef\n",
       " #undef\n",
       " #undef\n",
       " #undef\n",
       " #undef"
      ]
     },
     "execution_count": 21,
     "metadata": {},
     "output_type": "execute_result"
    }
   ],
   "source": [
    "a = Array{typeof(basis),1}(undef,5)"
   ]
  },
  {
   "cell_type": "code",
   "execution_count": 22,
   "metadata": {
    "collapsed": false
   },
   "outputs": [
    {
     "data": {
      "text/plain": [
       "GaussianInfo(\"6-31\", 4, [1.0, 2.0, 3.0, 4.0])"
      ]
     },
     "execution_count": 22,
     "metadata": {},
     "output_type": "execute_result"
    }
   ],
   "source": [
    "a[1] = GaussianInfo(\"6-31\",4,[1.,2.,3.,4.])"
   ]
  },
  {
   "cell_type": "code",
   "execution_count": 26,
   "metadata": {
    "collapsed": false
   },
   "outputs": [
    {
     "data": {
      "text/plain": [
       "4-element Array{Float64,1}:\n",
       " 1.0\n",
       " 2.0\n",
       " 3.0\n",
       " 4.0"
      ]
     },
     "execution_count": 26,
     "metadata": {},
     "output_type": "execute_result"
    }
   ],
   "source": [
    "a[1].alphas"
   ]
  },
  {
   "cell_type": "markdown",
   "metadata": {},
   "source": [
    "# Test of TypesParticles.jl and TypesBasis.jl"
   ]
  },
  {
   "cell_type": "code",
   "execution_count": 1,
   "metadata": {
    "collapsed": false
   },
   "outputs": [
    {
     "data": {
      "text/plain": [
       "4-element Array{String,1}:\n",
       " \"@\"      \n",
       " \"@v#.#\"  \n",
       " \"@stdlib\"\n",
       " \"../\"    "
      ]
     },
     "execution_count": 1,
     "metadata": {},
     "output_type": "execute_result"
    }
   ],
   "source": [
    "push!(LOAD_PATH,\"../\")"
   ]
  },
  {
   "cell_type": "code",
   "execution_count": 2,
   "metadata": {
    "collapsed": false
   },
   "outputs": [],
   "source": [
    "using TypesParticles"
   ]
  },
  {
   "cell_type": "code",
   "execution_count": 3,
   "metadata": {
    "collapsed": false
   },
   "outputs": [
    {
     "name": "stderr",
     "output_type": "stream",
     "text": [
      "┌ Info: Recompiling stale cache file /home/stefanb/.julia/compiled/v1.0/TypesBasis.ji for TypesBasis [top-level]\n",
      "└ @ Base loading.jl:1184\n"
     ]
    }
   ],
   "source": [
    "using TypesBasis"
   ]
  },
  {
   "cell_type": "code",
   "execution_count": 4,
   "metadata": {
    "collapsed": false
   },
   "outputs": [
    {
     "data": {
      "text/plain": [
       "Gaussian(\"6-31\", 4, [1.0, 2.0, 3.0, 4.0], [1.0, 2.0, 3.0, 4.0])"
      ]
     },
     "execution_count": 4,
     "metadata": {},
     "output_type": "execute_result"
    }
   ],
   "source": [
    "basis = Gaussian(\"6-31\",4::Number,[1.0,2.0,3.0,4.0],[1.0,2.0,3.0,4.0])"
   ]
  },
  {
   "cell_type": "code",
   "execution_count": 12,
   "metadata": {
    "collapsed": false
   },
   "outputs": [
    {
     "data": {
      "text/plain": [
       "GaussOrbital(1.0, 1.0, 1.0, [1.0, 2.0, 3.0, 4.0], [1.0, 2.0, 3.0, 4.0], [0.712705, 1.19862, 1.62462, 2.01584])"
      ]
     },
     "execution_count": 12,
     "metadata": {},
     "output_type": "execute_result"
    }
   ],
   "source": [
    "GaussOrbital(1.0,1.0,1.0,basis)"
   ]
  },
  {
   "cell_type": "code",
   "execution_count": 13,
   "metadata": {
    "collapsed": false
   },
   "outputs": [],
   "source": [
    "using Basis"
   ]
  },
  {
   "cell_type": "code",
   "execution_count": 14,
   "metadata": {
    "collapsed": false
   },
   "outputs": [
    {
     "name": "stdout",
     "output_type": "stream",
     "text": [
      "search: \u001b[0m\u001b[1mS\u001b[22m\u001b[0m\u001b[1my\u001b[22m\u001b[0m\u001b[1ms\u001b[22m\u001b[0m\u001b[1mt\u001b[22m\u001b[0m\u001b[1me\u001b[22m\u001b[0m\u001b[1mm\u001b[22m\u001b[0m\u001b[1mO\u001b[22m\u001b[0m\u001b[1mf\u001b[22m\u001b[0m\u001b[1mA\u001b[22m\u001b[0m\u001b[1mt\u001b[22m\u001b[0m\u001b[1mo\u001b[22m\u001b[0m\u001b[1mm\u001b[22m\u001b[0m\u001b[1ms\u001b[22m\n",
      "\n"
     ]
    },
    {
     "data": {
      "text/markdown": [
       "Data type for storing list of information about an atomic system.\n",
       "\n",
       "Use: SystemOfAtoms(natoms::Integer,atoms::Array{Atom,1},cell::Array{Float64,2}(3x3))\n"
      ],
      "text/plain": [
       "  Data type for storing list of information about an atomic system.\n",
       "\n",
       "  Use:\n",
       "  SystemOfAtoms(natoms::Integer,atoms::Array{Atom,1},cell::Array{Float64,2}(3x3))"
      ]
     },
     "execution_count": 14,
     "metadata": {},
     "output_type": "execute_result"
    }
   ],
   "source": [
    "?SystemOfAtoms"
   ]
  },
  {
   "cell_type": "code",
   "execution_count": 15,
   "metadata": {
    "collapsed": false
   },
   "outputs": [
    {
     "data": {
      "text/plain": [
       "2-element Array{Atom,1}:\n",
       " Atom(0.0, 0.0, 0.0, 1) \n",
       " Atom(0.77, 0.0, 0.0, 1)"
      ]
     },
     "execution_count": 15,
     "metadata": {},
     "output_type": "execute_result"
    }
   ],
   "source": [
    "aa = [Atom(0.0,0.0,0.0,1),Atom(0.77,0.0,0.0,1)]"
   ]
  },
  {
   "cell_type": "code",
   "execution_count": 16,
   "metadata": {
    "collapsed": false
   },
   "outputs": [
    {
     "data": {
      "text/plain": [
       "SystemOfAtoms(2, Atom[Atom(0.0, 0.0, 0.0, 1), Atom(0.77, 0.0, 0.0, 1)], [0.0 0.0 0.0; 0.0 0.0 0.0; 0.0 0.0 0.0])"
      ]
     },
     "execution_count": 16,
     "metadata": {},
     "output_type": "execute_result"
    }
   ],
   "source": [
    "aas = SystemOfAtoms(2,aa,zeros(3,3))"
   ]
  },
  {
   "cell_type": "code",
   "execution_count": 17,
   "metadata": {
    "collapsed": false
   },
   "outputs": [
    {
     "data": {
      "text/plain": [
       "(GaussOrbital[GaussOrbital(0.0, 0.0, 0.0, [1.0, 2.0, 3.0, 4.0], [1.0, 2.0, 3.0, 4.0], [0.712705, 1.19862, 1.62462, 2.01584]), GaussOrbital(0.77, 0.0, 0.77, [1.0, 2.0, 3.0, 4.0], [1.0, 2.0, 3.0, 4.0], [0.712705, 1.19862, 1.62462, 2.01584])], 2)"
      ]
     },
     "execution_count": 17,
     "metadata": {},
     "output_type": "execute_result"
    }
   ],
   "source": [
    "build_basis_func(aas,basis)"
   ]
  },
  {
   "cell_type": "code",
   "execution_count": 11,
   "metadata": {
    "collapsed": false
   },
   "outputs": [
    {
     "ename": "UndefVarError",
     "evalue": "UndefVarError: GausSOrbital not defined",
     "output_type": "error",
     "traceback": [
      "UndefVarError: GausSOrbital not defined",
      "",
      "Stacktrace:",
      " [1] top-level scope at In[11]:1"
     ]
    }
   ],
   "source": [
    "Array{GausSOrbital,1}"
   ]
  },
  {
   "cell_type": "code",
   "execution_count": null,
   "metadata": {
    "collapsed": true
   },
   "outputs": [],
   "source": []
  }
 ],
 "metadata": {
  "kernelspec": {
   "display_name": "Julia 1.0.0",
   "language": "julia",
   "name": "julia-1.0"
  },
  "language_info": {
   "file_extension": ".jl",
   "mimetype": "application/julia",
   "name": "julia",
   "version": "1.0.0"
  }
 },
 "nbformat": 4,
 "nbformat_minor": 2
}
